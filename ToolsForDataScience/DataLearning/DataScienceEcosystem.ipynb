{
  "metadata": {
    "kernelspec": {
      "name": "python",
      "display_name": "Python (Pyodide)",
      "language": "python"
    },
    "language_info": {
      "codemirror_mode": {
        "name": "python",
        "version": 3
      },
      "file_extension": ".py",
      "mimetype": "text/x-python",
      "name": "python",
      "nbconvert_exporter": "python",
      "pygments_lexer": "ipython3",
      "version": "3.8"
    }
  },
  "nbformat_minor": 5,
  "nbformat": 4,
  "cells": [
    {
      "id": "89146120-9477-464a-8378-8d870097d5f0",
      "cell_type": "markdown",
      "source": "# Data Science Tools and Ecosystem",
      "metadata": {}
    },
    {
      "id": "1778c380-eeaa-475e-b627-4b321a0287c1",
      "cell_type": "markdown",
      "source": "In this notebook, Data Science Tools and Ecosystem are summarized.",
      "metadata": {}
    },
    {
      "id": "1ec63eed-e421-4941-9b64-3ff481cd3413",
      "cell_type": "markdown",
      "source": "Some of the popular languages that Data Scientists use are:\n1. Python\n2. R\n3. SQL\n4. Ruby",
      "metadata": {}
    },
    {
      "id": "83f764cb-6587-4b77-a5c2-b2e5dee88642",
      "cell_type": "markdown",
      "source": "Some of the commonly used libraries used by Data Scientists include:\n- Keras\n- Pandas\n- Vegas\n- Matplotlib\n- Numpy",
      "metadata": {}
    },
    {
      "id": "5760ad0b-4e61-441c-b0bc-bb1a697e422c",
      "cell_type": "markdown",
      "source": "## Data Science Tools\n\n| TOOL |\n|-------------|\n| Jupyter Notebook |\n| Anaconda |\n| Spyder |\n| RStudio |",
      "metadata": {}
    },
    {
      "id": "f596aa7c-d041-43da-a50b-1c19899847e2",
      "cell_type": "markdown",
      "source": "### Below are a few examples of evaluating arithmetic expressions in Python",
      "metadata": {}
    },
    {
      "id": "eb026374-5350-495c-9cc9-37df4d2d15f8",
      "cell_type": "code",
      "source": "# This a simple arithmetic expression to mutiply then add integers\n(3*4)+5",
      "metadata": {
        "trusted": true
      },
      "outputs": [
        {
          "execution_count": 2,
          "output_type": "execute_result",
          "data": {
            "text/plain": "17"
          },
          "metadata": {}
        }
      ],
      "execution_count": 2
    },
    {
      "id": "20550075-5f36-4e3c-9821-fa0007bafeca",
      "cell_type": "code",
      "source": "# This will convert 200 minutes to hours by diving by 60\n200/60",
      "metadata": {
        "trusted": true
      },
      "outputs": [
        {
          "execution_count": 3,
          "output_type": "execute_result",
          "data": {
            "text/plain": "3.3333333333333335"
          },
          "metadata": {}
        }
      ],
      "execution_count": 3
    },
    {
      "id": "23172944-54cf-4176-8953-657fd2568318",
      "cell_type": "markdown",
      "source": "**Objectives:**\n- Understanding tools for data science\n- Learning Libraries\n- Performing arithmetic operations\n- Learning about columns and tables",
      "metadata": {}
    },
    {
      "id": "ec82f1f4-8719-421f-a6ff-9656a1f29d11",
      "cell_type": "markdown",
      "source": "## Author\nShreyash Rahinj",
      "metadata": {}
    }
  ]
}